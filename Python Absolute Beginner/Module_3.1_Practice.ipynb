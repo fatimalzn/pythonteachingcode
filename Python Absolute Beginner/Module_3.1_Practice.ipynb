{
 "cells": [
  {
   "cell_type": "markdown",
   "metadata": {},
   "source": [
    "# Module 3 Practice 1\n",
    "## Conditionals \n",
    "<font size=\"5\" color=\"#00A0B2\"  face=\"verdana\"> <B>Student will be able to</B></font>  \n",
    "- **control code flow with `if`... `else` conditional logic**  \n",
    "  - using Boolean string methods (`.isupper(), .isalpha(), .startswith()...`)  \n",
    "  - using comparision (`>, <, >=, <=, ==, !=`)  \n",
    "  - using Strings in comparisons  \n",
    "\n",
    "## `if else`\n"
   ]
  },
  {
   "cell_type": "code",
   "execution_count": 7,
   "metadata": {},
   "outputs": [
    {
     "name": "stdout",
     "output_type": "stream",
     "text": [
      "Input your age (use only whole numbers): 23\n",
      "Age's first type is:  <class 'int'>\n",
      "Age's second type is:  <class 'int'>\n",
      "In ten years you will be 33.\n"
     ]
    }
   ],
   "source": [
    "# [ ] input a variable: age as digit and cast to int\n",
    "# if age greater than or equal to 12 then print message on age in 10 years \n",
    "# or else print message \"It is good to be\" age\n",
    "age = int(input(\"Input your age (use only whole numbers): \"))\n",
    "print(\"Age's first type is: \",type(age))\n",
    "age = int(age)\n",
    "print(\"Age's second type is: \",type(age))\n",
    "\n",
    "if age >= 12:\n",
    "    print(\"In ten years you will be \"+str(age+10)+\".\")\n",
    "else:\n",
    "    print(\"It is good to be \"+str(age)+\".\")\n",
    "\n",
    "\n",
    "\n"
   ]
  },
  {
   "cell_type": "code",
   "execution_count": 22,
   "metadata": {
    "collapsed": true
   },
   "outputs": [
    {
     "name": "stdout",
     "output_type": "stream",
     "text": [
      "65 greater than 100 is False\n"
     ]
    }
   ],
   "source": [
    "# [ ] input a number \n",
    "number_one = input(\"Enter a number: \")\n",
    "# if number IS a digit string then cast to int\n",
    "def function():\n",
    "    if number_one.isdigit():\n",
    "       return int(number_one)\n",
    "    else: \n",
    "        print(\"only int is accepted\")\n",
    "    \n",
    "# print number \"greater than 100 is\" True/False\n",
    "print(function(), \"greater than 100 is\",function()>100)\n",
    "# if number is NOT a digit string then message the user that \"only int is accepted\"\n",
    "\n",
    "\n"
   ]
  },
  {
   "cell_type": "markdown",
   "metadata": {},
   "source": [
    "### Guessing a letter A-Z  \n",
    "**check_guess()** takes 2 string arguments: **letter and guess** (both expect single alphabetical character)   \n",
    "    - if guess is not an alpha character print invalid and return False\n",
    "    - test and print if guess is \"high\" or \"low\" and return False\n",
    "    - test and print if guess is \"correct\" and return True"
   ]
  },
  {
   "cell_type": "code",
   "execution_count": 22,
   "metadata": {
    "collapsed": true
   },
   "outputs": [],
   "source": [
    "# [ ] create check_guess()\n",
    "def check_guess(letter, guess):\n",
    "    if guess.isalpha()\n",
    "        if guess == letter:\n",
    "            print (guess, \"correct\")\n",
    "        else:\n",
    "           if guess>letter:\n",
    "               print(\"too high\")\n",
    "           elif guess<letter:\n",
    "               print(\"low\")\n",
    "    else:\n",
    "        print(\"Invalid\")\n",
    "\n",
    "# call with test\n"
   ]
  },
  {
   "cell_type": "code",
   "execution_count": 26,
   "metadata": {
    "collapsed": true
   },
   "outputs": [
    {
     "name": "stdout",
     "output_type": "stream",
     "text": [
      "True False\n"
     ]
    }
   ],
   "source": [
    "# [ ] call check_guess with user input\n",
    "guess=input(\"Choose a letter between A-Z: \")\n",
    "check_guess(\"A\",guess)\n"
   ]
  },
  {
   "cell_type": "markdown",
   "metadata": {},
   "source": [
    "### Letter Guess\n",
    "**create letter_guess() function that gives user 3 guesses**\n",
    "- takes a letter character argument for the answer letter\n",
    "- gets user input for letter guess  \n",
    "- calls check_guess() with answer and guess\n",
    "- End letter_guess if \n",
    "    - check_guess() equals True, return True  \n",
    "    - or after 3 failed attempts, return False"
   ]
  },
  {
   "cell_type": "code",
   "execution_count": null,
   "metadata": {
    "collapsed": true
   },
   "outputs": [],
   "source": [
    "# [ ] create letter_guess() function, call the function to test\n",
    "\n",
    "\n"
   ]
  },
  {
   "cell_type": "markdown",
   "metadata": {},
   "source": [
    "### Pet Conversation\n",
    "**ask the user for a sentence about a pet and then reply**  \n",
    "- get user input in variable: about_pet\n",
    "- using a series of **if** statements respond with appropriate conversation\n",
    "  - check if \"dog\" is in the string about_pet (sample reply \"Ah, a dog\")\n",
    "  - check if \"cat\" is in the string about_pet\n",
    "  - check if 1 or more animal is in string about_pet\n",
    "- no need for **else**'s\n",
    "- finish with thanking for the story"
   ]
  },
  {
   "cell_type": "code",
   "execution_count": 31,
   "metadata": {
    "collapsed": true
   },
   "outputs": [
    {
     "name": "stdout",
     "output_type": "stream",
     "text": [
      "I have 2 dogs too.\n",
      "That's a great story\n"
     ]
    }
   ],
   "source": [
    "# [ ] complete pet conversation\n",
    "about_pet=input(\"Tell me about your pet/s: \").lower()\n",
    "if \"dog\" in about_pet:\n",
    "    print(\"I have 2 dogs too.\")\n",
    "elif \"cat\" in about_pet:\n",
    "    print(\"I love cats!\")\n",
    "elif \"2\" in about_pet:\n",
    "    print(\"wow so many animals!\")\n",
    "print(\"That's a great story\")\n"
   ]
  },
  {
   "cell_type": "markdown",
   "metadata": {},
   "source": [
    "# Module 3 Practice 2\n",
    "## conditionals, type, and mathematics extended   \n",
    "&nbsp;\n",
    "<font size=\"5\" color=\"#00A0B2\"  face=\"verdana\"> <B>Student will be able to</B></font>  \n",
    "- code more than two choices using **`elif`** \n",
    "- gather numeric input using type casting  \n",
    "- perform subtraction, multiplication and division operations in code  &nbsp;  \n"
   ]
  },
  {
   "cell_type": "markdown",
   "metadata": {},
   "source": [
    "# &nbsp;  \n",
    "<font size=\"6\" color=\"#B24C00\"  face=\"verdana\"> <B>Tasks</B></font>"
   ]
  },
  {
   "cell_type": "markdown",
   "metadata": {},
   "source": [
    "### Rainbow colors\n",
    "ask for input of a favorite rainbow color first letter: ROYGBIV  \n",
    "\n",
    "Using `if`, `elif`, and `else`:  \n",
    "- print the color matching the letter  \n",
    "    - R = Red  \n",
    "    - O = Orange  \n",
    "    - Y = Yellow  \n",
    "    - G = Green\n",
    "    - B = Blue\n",
    "    - I = Indigo\n",
    "    - V = Violet\n",
    "    - else print \"no match\"\n"
   ]
  },
  {
   "cell_type": "code",
   "execution_count": 1,
   "metadata": {},
   "outputs": [
    {
     "name": "stdout",
     "output_type": "stream",
     "text": [
      "Red\n"
     ]
    }
   ],
   "source": [
    "# [ ] complete rainbow colors\n",
    "favorite_color = input(\"First letter of your favorite color (ROYGBIV): \").upper()\n",
    "if favorite_color == \"R\":\n",
    "    print(\"Red\")\n",
    "elif favorite_color ==\"O\":\n",
    "    print(\"Orange\")\n",
    "elif favorite_color == \"Y\":\n",
    "    print(\"Yellow\")\n",
    "elif favorite_color == \"G\":\n",
    "    print(\"Green\")\n",
    "elif favorite_color == \"B\":\n",
    "    print(\"Blue\")\n",
    "elif favorite_color == \"I\":\n",
    "    print(\"Indigo\")\n",
    "elif favorite_color == \"V\":\n",
    "    print(\"Violet\")\n",
    "else: \n",
    "    print(\"No match\")\n",
    "\n"
   ]
  },
  {
   "cell_type": "code",
   "execution_count": 37,
   "metadata": {},
   "outputs": [
    {
     "name": "stdout",
     "output_type": "stream",
     "text": [
      "Orange\n"
     ]
    }
   ],
   "source": [
    "# [ ] make the code above into a function rainbow_color() that has a string parameter, \n",
    "def rainbow_color(color):\n",
    "    favorite_color = input(\"First letter of your favorite color (ROYGBIV): \").upper()\n",
    "    if favorite_color == \"R\":\n",
    "        print(\"Red\")\n",
    "    elif favorite_color ==\"O\":\n",
    "        print(\"Orange\")\n",
    "    elif favorite_color == \"Y\":\n",
    "        print(\"Yellow\")\n",
    "    elif favorite_color == \"G\":\n",
    "        print(\"Green\")\n",
    "    elif favorite_color == \"B\":\n",
    "        print(\"Blue\")\n",
    "    elif favorite_color == \"I\":\n",
    "        print(\"Indigo\")\n",
    "    elif favorite_color == \"V\":\n",
    "        print(str(\"Violet\"))\n",
    "        \n",
    "    else: \n",
    "        print(\"No match\")\n",
    "         \n",
    "# get input and call the function and return the matching color as a string or \"no match\" message.\n",
    "# Call the function and print the return string.\n",
    "rainbow_color(any)\n"
   ]
  },
  {
   "cell_type": "markdown",
   "metadata": {},
   "source": [
    "# &nbsp;  \n",
    "**Create function age_20() that adds or subtracts 20 from your age for a return value based on current age** (use `if`) \n",
    "- call the funtion with user input and then use the return value in a sentence  \n",
    "example `age_20(25)` returns **5**: \n",
    "> \"5 years old, 20 years difference from now\""
   ]
  },
  {
   "cell_type": "code",
   "execution_count": 50,
   "metadata": {},
   "outputs": [
    {
     "name": "stdout",
     "output_type": "stream",
     "text": [
      "43 years old, 20 years from now\n"
     ]
    }
   ],
   "source": [
    "# [ ] complete age_20()\n",
    "def age_20():\n",
    "    user_input = input(\"How old are you?: \")\n",
    "    if user_input > \"25\":\n",
    "        print(int(user_input) - 20, \"years old, 20 years ago\")\n",
    "    elif user_input < \"25\":\n",
    "        print(int(user_input) + 20, \"years old, 20 years from now\")\n",
    "age_20()\n",
    "\n"
   ]
  },
  {
   "cell_type": "markdown",
   "metadata": {},
   "source": [
    "**create a function rainbow_or_age that takes a string argument**\n",
    "- if argument is a digit return the value of calling age_20() with the str value cast as **`int`** \n",
    "- if argument is an alphabetical character return the value of calling rainbow_color() with the str\n",
    "- if neither return FALSE"
   ]
  },
  {
   "cell_type": "code",
   "execution_count": 51,
   "metadata": {},
   "outputs": [
    {
     "name": "stdout",
     "output_type": "stream",
     "text": [
      "43 years old, 20 years from now\n"
     ]
    }
   ],
   "source": [
    "# [ ]  create rainbow_or_age()\n",
    "def rainbow_or_age():\n",
    "    user_input= input(\"Enter your age or first letter of your favorite color: \")\n",
    "    if user_input.isdigit():\n",
    "        return age_20()\n",
    "    elif user_input.isalpha():\n",
    "        return rainbow_color()\n",
    "    else:\n",
    "        return (False)\n",
    "rainbow_or_age()"
   ]
  },
  {
   "cell_type": "code",
   "execution_count": 54,
   "metadata": {},
   "outputs": [
    {
     "name": "stdout",
     "output_type": "stream",
     "text": [
      "2 + 5 = 7\n"
     ]
    }
   ],
   "source": [
    "# [ ]  add 2 numbers from input using a cast to integer and display the answer \n",
    "number_1=int(input(\"Enter a number: \"))\n",
    "number_2=int(input(\"Enter another number: \"))\n",
    "print(number_1,\"+\", number_2,\"=\", number_1 + number_2)\n"
   ]
  },
  {
   "cell_type": "code",
   "execution_count": 56,
   "metadata": {},
   "outputs": [
    {
     "name": "stdout",
     "output_type": "stream",
     "text": [
      "The answer is 12636\n"
     ]
    }
   ],
   "source": [
    "# [ ] Multiply 2 numbers from input using cast and save the answer as part of a string \"the answer is...\"\n",
    "# display the string using print\n",
    "number_input1 = input(\"Enter a number here: \")\n",
    "number_input2 = input(\"Enter another number: \")\n",
    "print(\"The answer is\", int(number_input1) * int(number_input2))\n",
    "\n"
   ]
  },
  {
   "cell_type": "code",
   "execution_count": 67,
   "metadata": {},
   "outputs": [
    {
     "data": {
      "text/plain": [
       "2.0"
      ]
     },
     "execution_count": 67,
     "metadata": {},
     "output_type": "execute_result"
    }
   ],
   "source": [
    "# [ ] get input of 2 numbers and display the average: (num1 + num2) divided by 2\n",
    "number = input(\"Enter a number: \")\n",
    "number2 = input(\"Enter a number: \")\n",
    "(int(number) + int(number2))/2\n"
   ]
  },
  {
   "cell_type": "code",
   "execution_count": 70,
   "metadata": {},
   "outputs": [
    {
     "name": "stdout",
     "output_type": "stream",
     "text": [
      "5\n"
     ]
    }
   ],
   "source": [
    "# [ ] get input of 2 numbers and subtract the largest from the smallest (use an if statement to see which is larger)\n",
    "# show the answer\n",
    "number1 = int(input(\"Enter a number: \"))\n",
    "number2 = int(input(\"Enter another number: \"))\n",
    "if number1 > number2:\n",
    "    print(number1 - number2)\n",
    "elif number1 < number2:\n",
    "    print(number2 - number1)\n"
   ]
  },
  {
   "cell_type": "code",
   "execution_count": 82,
   "metadata": {},
   "outputs": [
    {
     "name": "stdout",
     "output_type": "stream",
     "text": [
      "1\n"
     ]
    }
   ],
   "source": [
    "# [ ] Divide a larger number by a smaller number and print the integer part of the result\n",
    "# don't divide by zero! if a zero is input make the result zero\n",
    "# [ ] cast the answer to an integer to cut off the decimals and print the result\n",
    "number_input1 = int(input(\"Enter a number: \"))\n",
    "number_input2 = int(input(\"Enter another number: \"))\n",
    "if number_input1 > number_input2:\n",
    "    print (int(number_input1/number_input2))\n",
    "elif number_input1 < number_input2:\n",
    "    print (int(number_input2/number_input1))\n",
    "elif number_input1 ==0:\n",
    "    print(0)\n",
    "elif number_input2 == 0:\n",
    "    print(0)\n"
   ]
  },
  {
   "cell_type": "markdown",
   "metadata": {
    "collapsed": true
   },
   "source": [
    "[Terms of use](http://go.microsoft.com/fwlink/?LinkID=206977) &nbsp; [Privacy & cookies](https://go.microsoft.com/fwlink/?LinkId=521839) &nbsp; © 2017 Microsoft"
   ]
  }
 ],
 "metadata": {
  "anaconda-cloud": {},
  "kernelspec": {
   "display_name": "Python 3",
   "language": "python",
   "name": "python3"
  },
  "language_info": {
   "codemirror_mode": {
    "name": "ipython",
    "version": 3
   },
   "file_extension": ".py",
   "mimetype": "text/x-python",
   "name": "python",
   "nbconvert_exporter": "python",
   "pygments_lexer": "ipython3",
   "version": "3.12.1"
  }
 },
 "nbformat": 4,
 "nbformat_minor": 1
}
